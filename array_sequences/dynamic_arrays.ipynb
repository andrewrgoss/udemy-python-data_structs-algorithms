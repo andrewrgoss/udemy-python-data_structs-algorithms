{
 "cells": [
  {
   "cell_type": "code",
   "execution_count": 7,
   "metadata": {
    "collapsed": false
   },
   "outputs": [
    {
     "name": "stdout",
     "output_type": "stream",
     "text": [
      "Length:   0; Size in bytes:   64 \n",
      "Length:   1; Size in bytes:   96 \n",
      "Length:   2; Size in bytes:   96 \n",
      "Length:   3; Size in bytes:   96 \n",
      "Length:   4; Size in bytes:   96 \n",
      "Length:   5; Size in bytes:  128 \n",
      "Length:   6; Size in bytes:  128 \n",
      "Length:   7; Size in bytes:  128 \n",
      "Length:   8; Size in bytes:  128 \n",
      "Length:   9; Size in bytes:  192 \n",
      "Length:  10; Size in bytes:  192 \n",
      "Length:  11; Size in bytes:  192 \n",
      "Length:  12; Size in bytes:  192 \n",
      "Length:  13; Size in bytes:  192 \n",
      "Length:  14; Size in bytes:  192 \n",
      "Length:  15; Size in bytes:  192 \n",
      "Length:  16; Size in bytes:  192 \n",
      "Length:  17; Size in bytes:  264 \n",
      "Length:  18; Size in bytes:  264 \n",
      "Length:  19; Size in bytes:  264 \n",
      "Length:  20; Size in bytes:  264 \n",
      "Length:  21; Size in bytes:  264 \n",
      "Length:  22; Size in bytes:  264 \n",
      "Length:  23; Size in bytes:  264 \n",
      "Length:  24; Size in bytes:  264 \n",
      "Length:  25; Size in bytes:  264 \n",
      "Length:  26; Size in bytes:  344 \n",
      "Length:  27; Size in bytes:  344 \n",
      "Length:  28; Size in bytes:  344 \n",
      "Length:  29; Size in bytes:  344 \n",
      "Length:  30; Size in bytes:  344 \n",
      "Length:  31; Size in bytes:  344 \n",
      "Length:  32; Size in bytes:  344 \n",
      "Length:  33; Size in bytes:  344 \n",
      "Length:  34; Size in bytes:  344 \n",
      "Length:  35; Size in bytes:  344 \n",
      "Length:  36; Size in bytes:  432 \n",
      "Length:  37; Size in bytes:  432 \n",
      "Length:  38; Size in bytes:  432 \n",
      "Length:  39; Size in bytes:  432 \n",
      "Length:  40; Size in bytes:  432 \n",
      "Length:  41; Size in bytes:  432 \n",
      "Length:  42; Size in bytes:  432 \n",
      "Length:  43; Size in bytes:  432 \n",
      "Length:  44; Size in bytes:  432 \n",
      "Length:  45; Size in bytes:  432 \n",
      "Length:  46; Size in bytes:  432 \n",
      "Length:  47; Size in bytes:  528 \n",
      "Length:  48; Size in bytes:  528 \n",
      "Length:  49; Size in bytes:  528 \n"
     ]
    }
   ],
   "source": [
    "import sys\n",
    "\n",
    "# set n\n",
    "n = 50\n",
    "\n",
    "data = []\n",
    "\n",
    "for i in range(n):\n",
    "    # number of elements\n",
    "    a = len(data)\n",
    "    \n",
    "    # actual size in bytes\n",
    "    b = sys.getsizeof(data)\n",
    "    \n",
    "    print(str('Length: {0:3d}; Size in bytes: {1:4d} ').format(a, b))\n",
    "    \n",
    "    # increase length by one\n",
    "    data.append(n)"
   ]
  },
  {
   "cell_type": "code",
   "execution_count": null,
   "metadata": {
    "collapsed": true
   },
   "outputs": [],
   "source": []
  }
 ],
 "metadata": {
  "anaconda-cloud": {},
  "kernelspec": {
   "display_name": "Python [conda root]",
   "language": "python",
   "name": "conda-root-py"
  },
  "language_info": {
   "codemirror_mode": {
    "name": "ipython",
    "version": 3
   },
   "file_extension": ".py",
   "mimetype": "text/x-python",
   "name": "python",
   "nbconvert_exporter": "python",
   "pygments_lexer": "ipython3",
   "version": "3.5.2"
  }
 },
 "nbformat": 4,
 "nbformat_minor": 1
}
